{
 "cells": [
  {
   "cell_type": "markdown",
   "metadata": {},
   "source": [
    "Department of Physics, University of Pisa AA 2019-2020)\n",
    "\n",
    "### Multimessenger Physics Laboratory tutorial series\n",
    "\n",
    "\n",
    "\n",
    "## Tutorial 1 - Reading CSV files\n",
    "#### (M. Razzano, Mar 11, 2020)\n",
    "\n",
    "In this tutorial we will learn how to use Python to open Comma Separated Value (CSV) files. These CSV files are ASCII files that contains sets of data organized in columns, each one divided by a special separator character, which could be a comma or something else (like a space, or a tab).\n",
    "CSV can be read efficiently using Pandas, but in some cases it is useful to learn to read and visualize files, in order to manage more complicate cases, where headers are put at the beginning of the file and you need to read the information stored in it"
   ]
  },
  {
   "cell_type": "markdown",
   "metadata": {},
   "source": [
    "### Basic Setup\n",
    "First of all, we import the required modules and we download the data file."
   ]
  },
  {
   "cell_type": "code",
   "execution_count": 0,
   "metadata": {
    "colab": {},
    "colab_type": "code",
    "id": "5M-SnOdC1PqH"
   },
   "outputs": [],
   "source": [
    "import os   #These two are useful modules\n",
    "import sys\n",
    "\n",
    "import numpy as np #Numerical Python"
   ]
  },
  {
   "cell_type": "markdown",
   "metadata": {},
   "source": [
    "**Important** Within the notebook you can run BASH command, by putting a ! before the command. For instance, if you want to run a ls command, type !ls"
   ]
  },
  {
   "cell_type": "code",
   "execution_count": 2,
   "metadata": {},
   "outputs": [
    {
     "name": "stdout",
     "output_type": "stream",
     "text": [
      "exercise1-read-csv.ipynb  tutorial1-read-csv.ipynb\r\n"
     ]
    }
   ],
   "source": [
    "!ls"
   ]
  },
  {
   "cell_type": "code",
   "execution_count": 4,
   "metadata": {
    "colab": {
     "base_uri": "https://localhost:8080/",
     "height": 35
    },
    "colab_type": "code",
    "id": "VCBKOr9W1PqQ",
    "outputId": "697a0956-195b-4204-c47d-912aa384e147"
   },
   "outputs": [
    {
     "name": "stdout",
     "output_type": "stream",
     "text": [
      "fatal: destination path 'hw-data' already exists and is not an empty directory.\n",
      "exercise1-read-csv.ipynb  hw-data  tutorial1-read-csv.ipynb\n"
     ]
    }
   ],
   "source": [
    "#We now get the data file, by cloning a public repository.\n",
    "\n",
    "!git clone https://github.com/mmphyslab-pi/hw-data.git\n",
    "    \n",
    "#Data will be saved in a subdirectory called hw-data. you can see it with ls\n",
    "!ls"
   ]
  },
  {
   "cell_type": "code",
   "execution_count": 8,
   "metadata": {
    "colab": {
     "base_uri": "https://localhost:8080/",
     "height": 35
    },
    "colab_type": "code",
    "id": "h-0oY8XQ1PqW",
    "outputId": "8c5458f5-c9d6-47de-e466-0ae46b965bf0"
   },
   "outputs": [
    {
     "name": "stdout",
     "output_type": "stream",
     "text": [
      "/content\n"
     ]
    }
   ],
   "source": [
    "\n"
   ]
  },
  {
   "cell_type": "code",
   "execution_count": 0,
   "metadata": {
    "colab": {},
    "colab_type": "code",
    "id": "xjryHpEq1iha"
   },
   "outputs": [],
   "source": []
  }
 ],
 "metadata": {
  "colab": {
   "name": "exercise1-read-csv.ipynb",
   "provenance": []
  },
  "kernelspec": {
   "display_name": "Python 3",
   "language": "python",
   "name": "python3"
  },
  "language_info": {
   "codemirror_mode": {
    "name": "ipython",
    "version": 3
   },
   "file_extension": ".py",
   "mimetype": "text/x-python",
   "name": "python",
   "nbconvert_exporter": "python",
   "pygments_lexer": "ipython3",
   "version": "3.7.5"
  }
 },
 "nbformat": 4,
 "nbformat_minor": 1
}
