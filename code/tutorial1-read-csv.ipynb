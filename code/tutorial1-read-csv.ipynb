{
 "cells": [
  {
   "cell_type": "markdown",
   "metadata": {},
   "source": [
    "Department of Physics, University of Pisa AA 2019-2020)\n",
    "\n",
    "### Multimessenger Physics Laboratory tutorial series\n",
    "\n",
    "\n",
    "\n",
    "## Tutorial 1 - Reading CSV files\n",
    "#### (M. Razzano, Mar 11, 2020)\n",
    "\n",
    "In this tutorial we will learn how to use Python to open Comma Separated Value (CSV) files. These CSV files are ASCII files that contains sets of data organized in columns, each one divided by a special separator character, which could be a comma or something else (like a space, or a tab).\n",
    "CSV can be read efficiently using Pandas, but in some cases it is useful to learn to read and visualize files, in order to manage more complicate cases, where headers are put at the beginning of the file and you need to read the information stored in it"
   ]
  },
  {
   "cell_type": "markdown",
   "metadata": {},
   "source": [
    "### Basic Setup\n",
    "First of all, we import the required modules and we download the data file."
   ]
  },
  {
   "cell_type": "code",
   "execution_count": 51,
   "metadata": {
    "colab": {},
    "colab_type": "code",
    "id": "5M-SnOdC1PqH"
   },
   "outputs": [],
   "source": [
    "import os   #These two are useful modules\n",
    "import sys\n",
    "\n",
    "import numpy as np #Numerical Python"
   ]
  },
  {
   "cell_type": "markdown",
   "metadata": {},
   "source": [
    "**Important** Within the notebook you can run BASH command, by putting a ! before the command. For instance, if you want to run a ls command, type !ls"
   ]
  },
  {
   "cell_type": "code",
   "execution_count": 52,
   "metadata": {},
   "outputs": [
    {
     "name": "stdout",
     "output_type": "stream",
     "text": [
      "/datawin/University/CorsiUnipi/CorsoMultimessengerLab/GithubClassroom/hw01-python-dataio/code\r\n"
     ]
    }
   ],
   "source": [
    "# you can run the pwd command (Print Working Directory) to see your directory\n",
    "!pwd"
   ]
  },
  {
   "cell_type": "code",
   "execution_count": 53,
   "metadata": {},
   "outputs": [
    {
     "name": "stdout",
     "output_type": "stream",
     "text": [
      "total 749\r\n",
      "-rwxrwxrwx. 1 root root   3153 Mar 11 17:47 exercise1-read-csv.ipynb\r\n",
      "drwxrwxrwx. 1 root root      0 Mar 11 16:52 hw-data\r\n",
      "-rwxrwxrwx. 1 root root     46 Mar 11 17:24 test_output.txt\r\n",
      "-rwxrwxrwx. 1 root root  42694 Mar 12 08:13 tutorial1-read-csv.ipynb\r\n",
      "-rwxrwxrwx. 1 root root 715902 Mar 11 18:47 tutorial2-read-fits.ipynb\r\n"
     ]
    }
   ],
   "source": [
    "#or you can run ls command to list the directory where you are\n",
    "# (-l indicates that you can see all the properties of the file)\n",
    "!ls -l"
   ]
  },
  {
   "cell_type": "code",
   "execution_count": 54,
   "metadata": {},
   "outputs": [
    {
     "name": "stdout",
     "output_type": "stream",
     "text": [
      "total 1241\r\n",
      "drwxrwxrwx. 1 root root    4096 Mar 12 08:13 code\r\n",
      "drwxrwxrwx. 1 root root    4096 Mar 11 18:47 data\r\n",
      "-rwxrwxrwx. 1 root root 1221120 Mar 11 18:47 lat_photons_3c279.fits\r\n",
      "-rwxrwxrwx. 1 root root   35149 Mar 10 19:33 LICENSE\r\n",
      "-rwxrwxrwx. 1 root root     420 Mar 11 15:34 README.md\r\n",
      "-rwxrwxrwx. 1 root root     101 Mar 10 19:40 requirements.txt\r\n",
      "drwxrwxrwx. 1 root root       0 Mar 12 08:10 results\r\n"
     ]
    }
   ],
   "source": [
    "#or the one above you\n",
    "!ls -l ../"
   ]
  },
  {
   "cell_type": "markdown",
   "metadata": {},
   "source": [
    "### Le't retrieve the data\n",
    "The data are stored in a \"data\" directory at the same level of the \"code\" directory where you are now. Let's do some work to navigate the directory...\n",
    "We will use the *os* module, in particular the *os.path* submodule.\n",
    "\n",
    "**Note**: In this case we define the directories directly in this notebook, instead of using environment variables. For this examples, it is easier..."
   ]
  },
  {
   "cell_type": "code",
   "execution_count": 55,
   "metadata": {
    "colab": {
     "base_uri": "https://localhost:8080/",
     "height": 35
    },
    "colab_type": "code",
    "id": "VCBKOr9W1PqQ",
    "outputId": "697a0956-195b-4204-c47d-912aa384e147"
   },
   "outputs": [
    {
     "name": "stdout",
     "output_type": "stream",
     "text": [
      "I am in dir /datawin/University/CorsiUnipi/CorsoMultimessengerLab/GithubClassroom/hw01-python-dataio/code\n",
      "Main directory is /datawin/University/CorsiUnipi/CorsoMultimessengerLab/GithubClassroom/hw01-python-dataio\n",
      "data dir is /datawin/University/CorsiUnipi/CorsoMultimessengerLab/GithubClassroom/hw01-python-dataio/data\n"
     ]
    }
   ],
   "source": [
    "# Let's define te directory where you are with the \"get current working directory\" command...\n",
    "work_dir = os.getcwd()\n",
    "print(\"I am in dir %s\" % work_dir)\n",
    "\n",
    "#We can go up by using the path.dirname\n",
    "main_dir =os.path.dirname(work_dir)\n",
    "print(\"Main directory is %s\" % main_dir)\n",
    "\n",
    "#We can then define the data directory using the os.path.join command\n",
    "data_dir = os.path.join(main_dir,\"data\")\n",
    "print(\"data dir is %s\" % data_dir)\n",
    "\n",
    "#..and we can define some output directory with the results\n",
    "results_dir = os.path.join(main_dir,\"results\")\n",
    "\n",
    "#if the directory does not exist, you can create it...\n",
    "if not os.path.exists(results_dir):\n",
    "    os.mkdir(results_dir)\n",
    "    print(\"Directory %s created !\" % results_dir)"
   ]
  },
  {
   "cell_type": "markdown",
   "metadata": {
    "colab": {
     "base_uri": "https://localhost:8080/",
     "height": 35
    },
    "colab_type": "code",
    "id": "h-0oY8XQ1PqW",
    "outputId": "8c5458f5-c9d6-47de-e466-0ae46b965bf0"
   },
   "source": [
    "### Opening and exploring a file\n",
    "First of all, we will open a file and explore it, by excluding comments, and deciding how many data lines exists"
   ]
  },
  {
   "cell_type": "code",
   "execution_count": 56,
   "metadata": {
    "colab": {},
    "colab_type": "code",
    "id": "xjryHpEq1iha"
   },
   "outputs": [
    {
     "name": "stdout",
     "output_type": "stream",
     "text": [
      "['#LA DIVINA COMMEDIA\\n', '#di Dante Alighieri\\n', '#INFERNO\\n', '#Canto I\\n', '\\n', '  Nel mezzo del cammin di nostra vita\\n', 'mi ritrovai per una selva oscura\\n', 'ché la diritta via era smarrita.\\n', '  Ahi quanto a dir qual era è cosa dura\\n', 'esta selva selvaggia e aspra e forte\\n', 'che nel pensier rinova la paura!\\n', \"  Tant'è amara che poco è più morte;\\n\", \"ma per trattar del ben ch'i' vi trovai,\\n\", \"dirò de l'altre cose ch'i' v'ho scorte.\\n\", \"  Io non so ben ridir com'i' v'intrai,\\n\", \"tant'era pien di sonno a quel punto\\n\", 'che la verace via abbandonai.\\n', \"  Ma poi ch'i' fui al piè d'un colle giunto,\\n\", 'là dove terminava quella valle\\n', \"che m'avea di paura il cor compunto,\\n\"]\n"
     ]
    }
   ],
   "source": [
    "#define the filename, in this case is in the hw-data/hw01-data directory\n",
    "divine_data_filename = \"divinecomedy.txt\"\n",
    "\n",
    "#we use the open command\n",
    "# IMPORTANT! The file is in the data directory, so we need to use the join command\n",
    "\n",
    "divine_data_file = open(os.path.join(data_dir,divine_data_filename),\"r\")  #r means reading mode\n",
    "\n",
    "#the readlines function gives a list with a line each\n",
    "divine_lines = divine_data_file.readlines()\n",
    "\n",
    "#let's print the first 20 lines...\n",
    "print(divine_lines[0:20])"
   ]
  },
  {
   "cell_type": "code",
   "execution_count": 57,
   "metadata": {},
   "outputs": [
    {
     "name": "stdout",
     "output_type": "stream",
     "text": [
      "0 20 #LA DIVINA COMMEDIA\n",
      "\n",
      "1 20 #di Dante Alighieri\n",
      "\n",
      "2 9 #INFERNO\n",
      "\n",
      "3 9 #Canto I\n",
      "\n",
      "4 1 \n",
      "\n",
      "5 38   Nel mezzo del cammin di nostra vita\n",
      "\n",
      "6 33 mi ritrovai per una selva oscura\n",
      "\n",
      "7 33 ché la diritta via era smarrita.\n",
      "\n",
      "8 40   Ahi quanto a dir qual era è cosa dura\n",
      "\n",
      "9 37 esta selva selvaggia e aspra e forte\n",
      "\n"
     ]
    }
   ],
   "source": [
    "#you can also run a for loop, writing for the first 10 lines, the line number, the length of each line and the line content \n",
    "for li in range(10):\n",
    "    print(li,len(divine_lines[li]),divine_lines[li])"
   ]
  },
  {
   "cell_type": "code",
   "execution_count": 58,
   "metadata": {},
   "outputs": [
    {
     "name": "stdout",
     "output_type": "stream",
     "text": [
      "  Nel mezzo del cammin di nostra vita\n",
      "mi ritrovai per una selva oscura\n",
      "ché la diritta via era smarrita.\n",
      "  Ahi quanto a dir qual era è cosa dura\n",
      "esta selva selvaggia e aspra e forte\n",
      "** File contains 5 data lines\n"
     ]
    }
   ],
   "source": [
    "# Clearly, we need to work a little bit more, for instance \n",
    "# we can remove the new line that is at each end, with the command strip(\"\\n\")\n",
    "\n",
    "#we can create an output list with only the lines that we want\n",
    "out_list=[]\n",
    "\n",
    "#len is a powerful function that returns the length of a line\n",
    "\n",
    "for li in range(10):\n",
    "    line = divine_lines[li].strip(\"\\n\")\n",
    "    if (len(line)>0):\n",
    "        if (line[0]!=\"#\"):\n",
    "            print(line)\n",
    "            out_list.append(line)\n",
    "            \n",
    "print(\"** File contains %d data lines\" % len(out_list))"
   ]
  },
  {
   "cell_type": "markdown",
   "metadata": {},
   "source": [
    "### Reading a CSV file with come comments and a header\n",
    "A CSV file can contain some initial comments, that now we know how to skip, and could contain a set of data separated by a character. The first line can be used as header file."
   ]
  },
  {
   "cell_type": "code",
   "execution_count": 59,
   "metadata": {},
   "outputs": [
    {
     "name": "stdout",
     "output_type": "stream",
     "text": [
      "['# Planetary data\\n', '# From https://devstronomy.com/\\n', 'planet,mass,diameter,density,gravity,escape_velocity,rotation_period,length_of_day,distance_from_sun,perihelion,aphelion,orbital_period,orbital_velocity,orbital_inclination,orbital_eccentricity,obliquity_to_orbit,mean_temperature,surface_pressure,number_of_moons,has_ring_system,has_global_magnetic_field\\n', 'Mercury,0.330,4879,5427,3.7,4.3,1407.6,4222.6,57.9,46.0,69.8,88.0,47.4,7.0,0.205,0.034,167,0,0,No,Yes\\n', 'Venus,4.87,12104,5243,8.9,10.4,-5832.5,2802.0,108.2,107.5,108.9,224.7,35.0,3.4,0.007,177.4,464,92,0,No,No\\n', 'Earth,5.97,12756,5514,9.8,11.2,23.9,24.0,149.6,147.1,152.1,365.2,29.8,0.0,0.017,23.4,15,1,1,No,Yes\\n', 'Mars,0.642,6792,3933,3.7,5.0,24.6,24.7,227.9,206.6,249.2,687.0,24.1,1.9,0.094,25.2,-65,0.01,2,No,No\\n', 'Jupiter,1898,142984,1326,23.1,59.5,9.9,9.9,778.6,740.5,816.6,4331,13.1,1.3,0.049,3.1,-110,Unknown*,79,Yes,Yes\\n', 'Saturn,568,120536,687,9.0,35.5,10.7,10.7,1433.5,1352.6,1514.5,10747,9.7,2.5,0.057,26.7,-140,Unknown*,62,Yes,Yes\\n', 'Uranus,86.8,51118,1271,8.7,21.3,-17.2,17.2,2872.5,2741.3,3003.6,30589,6.8,0.8,0.046,97.8,-195,Unknown*,27,Yes,Yes\\n', 'Neptune,102,49528,1638,11.0,23.5,16.1,16.1,4495.1,4444.5,4545.7,59800,5.4,1.8,0.011,28.3,-200,Unknown*,14,Yes,Yes\\n', 'Pluto,0.0146,2370,2095,0.7,1.3,-153.3,153.3,5906.4,4436.8,7375.9,90560,4.7,17.2,0.244,122.5,-225,0.00001,5,No,Unkno']\n"
     ]
    }
   ],
   "source": [
    "#define the filename, in this case is in the hw-data/hw01-data directory\n",
    "planets_data_filename = \"planets.csv\"\n",
    "\n",
    "#we use the open command\n",
    "planets_data_file = open(os.path.join(data_dir,planets_data_filename),\"r\")  #r means reading mode\n",
    "\n",
    "#the readlines function gives a list with a line each\n",
    "planets_lines = planets_data_file.readlines()\n",
    "\n",
    "#let's print the first 20 lines...\n",
    "print(planets_lines[0:20])"
   ]
  },
  {
   "cell_type": "code",
   "execution_count": 60,
   "metadata": {},
   "outputs": [
    {
     "name": "stdout",
     "output_type": "stream",
     "text": [
      "planet,mass,diameter,density,gravity,escape_velocity,rotation_period,length_of_day,distance_from_sun,perihelion,aphelion,orbital_period,orbital_velocity,orbital_inclination,orbital_eccentricity,obliquity_to_orbit,mean_temperature,surface_pressure,number_of_moons,has_ring_system,has_global_magnetic_field\n",
      "Mercury,0.330,4879,5427,3.7,4.3,1407.6,4222.6,57.9,46.0,69.8,88.0,47.4,7.0,0.205,0.034,167,0,0,No,Yes\n",
      "Venus,4.87,12104,5243,8.9,10.4,-5832.5,2802.0,108.2,107.5,108.9,224.7,35.0,3.4,0.007,177.4,464,92,0,No,No\n",
      "Earth,5.97,12756,5514,9.8,11.2,23.9,24.0,149.6,147.1,152.1,365.2,29.8,0.0,0.017,23.4,15,1,1,No,Yes\n",
      "Mars,0.642,6792,3933,3.7,5.0,24.6,24.7,227.9,206.6,249.2,687.0,24.1,1.9,0.094,25.2,-65,0.01,2,No,No\n",
      "Jupiter,1898,142984,1326,23.1,59.5,9.9,9.9,778.6,740.5,816.6,4331,13.1,1.3,0.049,3.1,-110,Unknown*,79,Yes,Yes\n",
      "Saturn,568,120536,687,9.0,35.5,10.7,10.7,1433.5,1352.6,1514.5,10747,9.7,2.5,0.057,26.7,-140,Unknown*,62,Yes,Yes\n",
      "Uranus,86.8,51118,1271,8.7,21.3,-17.2,17.2,2872.5,2741.3,3003.6,30589,6.8,0.8,0.046,97.8,-195,Unknown*,27,Yes,Yes\n",
      "** File contains 8 data lines\n"
     ]
    }
   ],
   "source": [
    "# First, remove the comments as we did before..\n",
    "\n",
    "#we can create an output list with only the lines that we want\n",
    "out_list=[]\n",
    "\n",
    "#len is a powerful function that returns the length of a line\n",
    "\n",
    "for li in range(10):\n",
    "    line = planets_lines[li].strip(\"\\n\")\n",
    "    if (len(line)>0):\n",
    "        if (line[0]!=\"#\"):\n",
    "            print(line)\n",
    "            out_list.append(line)\n",
    "            \n",
    "print(\"** File contains %d data lines\" % len(out_list))"
   ]
  },
  {
   "cell_type": "code",
   "execution_count": 61,
   "metadata": {},
   "outputs": [
    {
     "name": "stdout",
     "output_type": "stream",
     "text": [
      "header contains 21 columns\n",
      "['planet', 'mass', 'diameter', 'density', 'gravity', 'escape_velocity', 'rotation_period', 'length_of_day', 'distance_from_sun', 'perihelion', 'aphelion', 'orbital_period', 'orbital_velocity', 'orbital_inclination', 'orbital_eccentricity', 'obliquity_to_orbit', 'mean_temperature', 'surface_pressure', 'number_of_moons', 'has_ring_system', 'has_global_magnetic_field']\n"
     ]
    }
   ],
   "source": [
    "# We can use the first line as header containing the column names.\n",
    "# IMPORTANT NOTE: you can see that the variables are kept among code cells.\n",
    "\n",
    "header = out_list[0]\n",
    "\n",
    "# We can ue the split function to split a long string. \n",
    "# Here we use the comma as separator, but one can use also other characters\n",
    "column_names = header.split(\",\")\n",
    "\n",
    "print(\"header contains %d columns\" % len(column_names))\n",
    "print(column_names)"
   ]
  },
  {
   "cell_type": "code",
   "execution_count": 62,
   "metadata": {},
   "outputs": [
    {
     "name": "stdout",
     "output_type": "stream",
     "text": [
      "Processing row 1\n",
      "Processing row 2\n",
      "Processing row 3\n",
      "Processing row 4\n",
      "Processing row 5\n",
      "Processing row 6\n",
      "Processing row 7\n"
     ]
    }
   ],
   "source": [
    "# Now we can create a dictionary of list for each column name, and fill it. \n",
    "# We will use an index for the column (ci) and one for the rows (ri)\n",
    "\n",
    "#create and init a dictionary of lists..\n",
    "data_dict={}\n",
    "for ci in range(len(column_names)):\n",
    "    data_dict[column_names[ci]]=[]\n",
    "\n",
    "\n",
    "#we start from 1 since we want to skip the first line containing the headers.\n",
    "for ri in range(1,len(out_list)):\n",
    "    data_line = out_list[ri].split(\",\")\n",
    "    print(\"Processing row %d\" % ri)\n",
    "    for ci in range(len(column_names)):\n",
    "        data_dict[column_names[ci]].append(data_line[ci])"
   ]
  },
  {
   "cell_type": "code",
   "execution_count": 63,
   "metadata": {},
   "outputs": [
    {
     "name": "stdout",
     "output_type": "stream",
     "text": [
      "['Mercury', 'Venus', 'Earth', 'Mars', 'Jupiter', 'Saturn', 'Uranus']\n"
     ]
    }
   ],
   "source": [
    "#print for example the names and mass of planets\n",
    "print(data_dict[\"planet\"])    "
   ]
  },
  {
   "cell_type": "markdown",
   "metadata": {},
   "source": [
    "### Convert to Numpy arrays and plot\n",
    "At this point, you can convert the lists into Numpy Arrays and do some plotting using matplotlib"
   ]
  },
  {
   "cell_type": "code",
   "execution_count": 64,
   "metadata": {},
   "outputs": [
    {
     "data": {
      "text/plain": [
       "Text(0.5, 0, 'Orbital Period [days]')"
      ]
     },
     "execution_count": 64,
     "metadata": {},
     "output_type": "execute_result"
    },
    {
     "data": {
      "image/png": "[encoded data removed]",
      "text/plain": [
       "<Figure size 432x288 with 1 Axes>"
      ]
     },
     "metadata": {
      "needs_background": "light"
     },
     "output_type": "display_data"
    }
   ],
   "source": [
    "# At this point you can do plots etc...\n",
    "import matplotlib.pyplot as plt\n",
    "\n",
    "#first, convert list to numpy arrays...\n",
    "data_dict[\"distance_from_sun\"]=np.asarray(data_dict[\"distance_from_sun\"])\n",
    "data_dict[\"orbital_period\"]=np.asarray(data_dict[\"orbital_period\"])\n",
    "\n",
    "plt.scatter(data_dict[\"orbital_period\"],data_dict[\"distance_from_sun\"],marker=\"o\",color=\"blue\")\n",
    "plt.ylabel(\"Distance from Sun [millions km]\")\n",
    "plt.xlabel(\"Orbital Period [days]\")\n"
   ]
  },
  {
   "cell_type": "code",
   "execution_count": 65,
   "metadata": {},
   "outputs": [
    {
     "data": {
      "text/plain": [
       "Text(0.5, 0, 'Mass [10^24 kg]')"
      ]
     },
     "execution_count": 65,
     "metadata": {},
     "output_type": "execute_result"
    },
    {
     "data": {
      "image/png": "[encoded data removed]",
      "text/plain": [
       "<Figure size 432x288 with 1 Axes>"
      ]
     },
     "metadata": {
      "needs_background": "light"
     },
     "output_type": "display_data"
    }
   ],
   "source": [
    "#..or plot histograms...\n",
    "\n",
    "data_dict[\"mass\"]=np.asarray(data_dict[\"mass\"])\n",
    "\n",
    "plt.hist(data_dict[\"orbital_period\"])\n",
    "plt.ylabel(\"N/bins\")\n",
    "plt.xlabel(\"Mass [10^24 kg]\")\n"
   ]
  },
  {
   "cell_type": "markdown",
   "metadata": {},
   "source": [
    "### Writing output files\n",
    "With Python you can also write output files. You start from the command open but using the \"w\" option, that stands for write mode"
   ]
  },
  {
   "cell_type": "code",
   "execution_count": 66,
   "metadata": {},
   "outputs": [],
   "source": [
    "#define the filename, of course please pay attention to the path. We can use the results path\n",
    "\n",
    "test_out_filename = os.path.join(results_dir,\"test_output.txt\")\n",
    "\n",
    "#we use the open command\n",
    "test_out_file = open(test_out_filename,\"w\")  #writing mode\n",
    "\n",
    "for i in range(10): \n",
    "    out_line = str(i)+\",\"+str(i*i)+\"\\n\"   #just print a y=x^2 law\n",
    "    test_out_file.write(out_line)\n",
    "    \n",
    "#don't forget to close the file..\n",
    "test_out_file.close() "
   ]
  },
  {
   "cell_type": "code",
   "execution_count": 68,
   "metadata": {},
   "outputs": [
    {
     "name": "stdout",
     "output_type": "stream",
     "text": [
      "total 1\r\n",
      "-rwxrwxrwx. 1 root root 46 Mar 12 08:14 test_output.txt\r\n"
     ]
    }
   ],
   "source": [
    "#the file should be there...let's check it with ls\n",
    "!ls -l ../results"
   ]
  },
  {
   "cell_type": "code",
   "execution_count": null,
   "metadata": {},
   "outputs": [],
   "source": []
  }
 ],
 "metadata": {
  "colab": {
   "name": "exercise1-read-csv.ipynb",
   "provenance": []
  },
  "kernelspec": {
   "display_name": "Python 3",
   "language": "python",
   "name": "python3"
  },
  "language_info": {
   "codemirror_mode": {
    "name": "ipython",
    "version": 3
   },
   "file_extension": ".py",
   "mimetype": "text/x-python",
   "name": "python",
   "nbconvert_exporter": "python",
   "pygments_lexer": "ipython3",
   "version": "3.7.5"
  }
 },
 "nbformat": 4,
 "nbformat_minor": 1
}
