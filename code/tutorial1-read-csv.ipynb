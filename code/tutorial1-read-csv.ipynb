{
 "cells": [
  {
   "cell_type": "markdown",
   "metadata": {},
   "source": [
    "Department of Physics, University of Pisa AA 2019-2020)\n",
    "\n",
    "### Multimessenger Physics Laboratory tutorial series\n",
    "\n",
    "\n",
    "\n",
    "## Tutorial 1 - Reading CSV files\n",
    "#### (M. Razzano, Mar 11, 2020)\n",
    "\n",
    "In this tutorial we will learn how to use Python to open Comma Separated Value (CSV) files. These CSV files are ASCII files that contains sets of data organized in columns, each one divided by a special separator character, which could be a comma or something else (like a space, or a tab).\n",
    "CSV can be read efficiently using Pandas, but in some cases it is useful to learn to read and visualize files, in order to manage more complicate cases, where headers are put at the beginning of the file and you need to read the information stored in it"
   ]
  },
  {
   "cell_type": "markdown",
   "metadata": {},
   "source": [
    "### Basic Setup\n",
    "First of all, we import the required modules and we download the data file."
   ]
  },
  {
   "cell_type": "code",
   "execution_count": 0,
   "metadata": {
    "colab": {},
    "colab_type": "code",
    "id": "5M-SnOdC1PqH"
   },
   "outputs": [],
   "source": [
    "import os   #These two are useful modules\n",
    "import sys\n",
    "\n",
    "import numpy as np #Numerical Python"
   ]
  },
  {
   "cell_type": "markdown",
   "metadata": {},
   "source": [
    "**Important** Within the notebook you can run BASH command, by putting a ! before the command. For instance, if you want to run a ls command, type !ls"
   ]
  },
  {
   "cell_type": "code",
   "execution_count": 2,
   "metadata": {},
   "outputs": [
    {
     "name": "stdout",
     "output_type": "stream",
     "text": [
      "exercise1-read-csv.ipynb  tutorial1-read-csv.ipynb\r\n"
     ]
    }
   ],
   "source": [
    "!ls"
   ]
  },
  {
   "cell_type": "code",
   "execution_count": 4,
   "metadata": {
    "colab": {
     "base_uri": "https://localhost:8080/",
     "height": 35
    },
    "colab_type": "code",
    "id": "VCBKOr9W1PqQ",
    "outputId": "697a0956-195b-4204-c47d-912aa384e147"
   },
   "outputs": [
    {
     "name": "stdout",
     "output_type": "stream",
     "text": [
      "fatal: destination path 'hw-data' already exists and is not an empty directory.\n",
      "remote: Enumerating objects: 6, done.\u001b[K\n",
      "remote: Counting objects: 100% (6/6), done.\u001b[K\n",
      "remote: Compressing objects: 100% (5/5), done.\u001b[K\n",
      "remote: Total 5 (delta 0), reused 5 (delta 0), pack-reused 0\u001b[K\n",
      "Unpacking objects: 100% (5/5), done.\n",
      "From https://github.com/mmphyslab-pi/hw-data\n",
      "   1b2fbaa..f360280  master     -> origin/master\n",
      "Updating 1b2fbaa..f360280\n",
      "Fast-forward\n",
      " hw01-data/divinecomedy.txt | 141 \u001b[32m+++++++++++++++++++++++++++++++++++++++++++++\u001b[m\n",
      " hw01-data/planets.csv      |  12 \u001b[32m++++\u001b[m\n",
      " 2 files changed, 153 insertions(+)\n",
      " create mode 100644 hw01-data/divinecomedy.txt\n",
      " create mode 100644 hw01-data/planets.csv\n",
      "hw01-data  LICENSE  README.md\n"
     ]
    }
   ],
   "source": [
    "#We now get the data file, by cloning a public repository.\n",
    "\n",
    "!git clone https://github.com/mmphyslab-pi/hw-data.git\n",
    "!cd hw-data; git pull\n",
    "    \n",
    "#Data will be saved in a subdirectory called hw-data. you can see it with ls\n",
    "!ls hw-data"
   ]
  },
  {
   "cell_type": "markdown",
   "metadata": {
    "colab": {
     "base_uri": "https://localhost:8080/",
     "height": 35
    },
    "colab_type": "code",
    "id": "h-0oY8XQ1PqW",
    "outputId": "8c5458f5-c9d6-47de-e466-0ae46b965bf0"
   },
   "source": [
    "### Opening and exploring a file\n",
    "First of all, we will open a file and explore it, by excluding comments, and deciding how many data lines exists"
   ]
  },
  {
   "cell_type": "code",
   "execution_count": 5,
   "metadata": {
    "colab": {},
    "colab_type": "code",
    "id": "xjryHpEq1iha"
   },
   "outputs": [
    {
     "name": "stdout",
     "output_type": "stream",
     "text": [
      "['#LA DIVINA COMMEDIA\\n', '#di Dante Alighieri\\n', '#INFERNO\\n', '#Canto I\\n', '\\n', '  Nel mezzo del cammin di nostra vita\\n', 'mi ritrovai per una selva oscura\\n', 'ché la diritta via era smarrita.\\n', '  Ahi quanto a dir qual era è cosa dura\\n', 'esta selva selvaggia e aspra e forte\\n', 'che nel pensier rinova la paura!\\n', \"  Tant'è amara che poco è più morte;\\n\", \"ma per trattar del ben ch'i' vi trovai,\\n\", \"dirò de l'altre cose ch'i' v'ho scorte.\\n\", \"  Io non so ben ridir com'i' v'intrai,\\n\", \"tant'era pien di sonno a quel punto\\n\", 'che la verace via abbandonai.\\n', \"  Ma poi ch'i' fui al piè d'un colle giunto,\\n\", 'là dove terminava quella valle\\n', \"che m'avea di paura il cor compunto,\\n\"]\n"
     ]
    }
   ],
   "source": [
    "#define the filename, in this case is in the hw-data/hw01-data directory\n",
    "divine_data_filename = \"hw-data/hw01-data/divinecomedy.txt\"\n",
    "\n",
    "#we use the open command\n",
    "divine_data_file = open(divine_data_filename,\"r\")  #r means reading mode\n",
    "\n",
    "#the readlines function gives a list with a line each\n",
    "divine_lines = divine_data_file.readlines()\n",
    "\n",
    "#let's print the first 20 lines...\n",
    "print(divine_lines[0:20])"
   ]
  },
  {
   "cell_type": "code",
   "execution_count": 9,
   "metadata": {},
   "outputs": [
    {
     "name": "stdout",
     "output_type": "stream",
     "text": [
      "0 20 #LA DIVINA COMMEDIA\n",
      "\n",
      "1 20 #di Dante Alighieri\n",
      "\n",
      "2 9 #INFERNO\n",
      "\n",
      "3 9 #Canto I\n",
      "\n",
      "4 1 \n",
      "\n",
      "5 38   Nel mezzo del cammin di nostra vita\n",
      "\n",
      "6 33 mi ritrovai per una selva oscura\n",
      "\n",
      "7 33 ché la diritta via era smarrita.\n",
      "\n",
      "8 40   Ahi quanto a dir qual era è cosa dura\n",
      "\n",
      "9 37 esta selva selvaggia e aspra e forte\n",
      "\n"
     ]
    }
   ],
   "source": [
    "#you can also run a for loop, writing for the first 10 lines, the line number, the length of each line and the line content \n",
    "for li in range(10):\n",
    "    print(li,len(divine_lines[li]),divine_lines[li])"
   ]
  },
  {
   "cell_type": "code",
   "execution_count": null,
   "metadata": {},
   "outputs": [],
   "source": [
    "#Clearly, we need to work a little bit more, for instance we can remove the new line that is at each end, with the command strip(\"\\n\")"
   ]
  }
 ],
 "metadata": {
  "colab": {
   "name": "exercise1-read-csv.ipynb",
   "provenance": []
  },
  "kernelspec": {
   "display_name": "Python 3",
   "language": "python",
   "name": "python3"
  },
  "language_info": {
   "codemirror_mode": {
    "name": "ipython",
    "version": 3
   },
   "file_extension": ".py",
   "mimetype": "text/x-python",
   "name": "python",
   "nbconvert_exporter": "python",
   "pygments_lexer": "ipython3",
   "version": "3.7.5"
  }
 },
 "nbformat": 4,
 "nbformat_minor": 1
}
