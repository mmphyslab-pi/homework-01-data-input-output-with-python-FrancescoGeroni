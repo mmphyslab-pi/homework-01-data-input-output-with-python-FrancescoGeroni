{
 "cells": [
  {
   "cell_type": "markdown",
   "metadata": {},
   "source": [
    "Department of Physics, University of Pisa AA 2019-2020)\n",
    "\n",
    "### Multimessenger Physics Laboratory tutorial series\n",
    "\n",
    "\n",
    "\n",
    "## Exercise 1 - Reading and manipulating CSV files\n",
    "#### (M. Razzano, Mar 11, 2020)\n",
    "\n",
    "In this exercise you will have to read and manipulate a file coming from the Exoplanet catalog"
   ]
  },
  {
   "cell_type": "markdown",
   "metadata": {},
   "source": [
    "### Basic Setup\n",
    "In the cell below you should import the modules that you think you will require..."
   ]
  },
  {
   "cell_type": "code",
   "execution_count": null,
   "metadata": {},
   "outputs": [],
   "source": []
  },
  {
   "cell_type": "markdown",
   "metadata": {},
   "source": [
    "### Open and explore  data file\n",
    "\n",
    "The file, named catalog_exoplanets_nasa.csv, is already in the data directory. Define a work, data and results directories, and open the file\n",
    "Open it and look how many lines are and if there are headers etc...\n",
    "How many columns are there? "
   ]
  },
  {
   "cell_type": "code",
   "execution_count": null,
   "metadata": {},
   "outputs": [],
   "source": []
  },
  {
   "cell_type": "markdown",
   "metadata": {},
   "source": [
    "### Save in a list of arrays\n",
    "\n",
    "Read the data file and for each column create a numpy array. \n",
    "Some quantities are not expressed in SI Units. Can you convert them, e.g. from AU to m, or from years to seconds?"
   ]
  },
  {
   "cell_type": "code",
   "execution_count": null,
   "metadata": {},
   "outputs": [],
   "source": []
  },
  {
   "cell_type": "markdown",
   "metadata": {},
   "source": [
    "### Do some plotting\n",
    "\n",
    "Choose few quantities and make a scatter plot and an histogram."
   ]
  },
  {
   "cell_type": "code",
   "execution_count": null,
   "metadata": {},
   "outputs": [],
   "source": []
  },
  {
   "cell_type": "markdown",
   "metadata": {},
   "source": [
    "### Save in an output file\n",
    "\n",
    "Are you able to save the data in a more readable file? I.e., a file with no comments and just the headers, and the data in SI format?"
   ]
  },
  {
   "cell_type": "code",
   "execution_count": null,
   "metadata": {},
   "outputs": [],
   "source": []
  },
  {
   "cell_type": "markdown",
   "metadata": {},
   "source": [
    "### Final steps\n",
    "Congratulations! Don't forget to save to Github (using Google colabs or git commit + git push)"
   ]
  },
  {
   "cell_type": "code",
   "execution_count": null,
   "metadata": {},
   "outputs": [],
   "source": []
  }
 ],
 "metadata": {
  "colab": {
   "name": "exercise1-read-csv.ipynb",
   "provenance": []
  },
  "kernelspec": {
   "display_name": "Python 3",
   "language": "python",
   "name": "python3"
  },
  "language_info": {
   "codemirror_mode": {
    "name": "ipython",
    "version": 3
   },
   "file_extension": ".py",
   "mimetype": "text/x-python",
   "name": "python",
   "nbconvert_exporter": "python",
   "pygments_lexer": "ipython3",
   "version": "3.7.5"
  }
 },
 "nbformat": 4,
 "nbformat_minor": 1
}
