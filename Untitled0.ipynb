{
  "nbformat": 4,
  "nbformat_minor": 0,
  "metadata": {
    "colab": {
      "name": "Untitled0.ipynb",
      "provenance": [],
      "authorship_tag": "ABX9TyMghRi5dJ56IqoYzoT0HO/C",
      "include_colab_link": true
    },
    "kernelspec": {
      "name": "python3",
      "display_name": "Python 3"
    }
  },
  "cells": [
    {
      "cell_type": "markdown",
      "metadata": {
        "id": "view-in-github",
        "colab_type": "text"
      },
      "source": [
        "<a href=\"https://colab.research.google.com/github/mmphyslab-pi/hw01-python-dataio/blob/master/Untitled0.ipynb\" target=\"_parent\"><img src=\"https://colab.research.google.com/assets/colab-badge.svg\" alt=\"Open In Colab\"/></a>"
      ]
    },
    {
      "cell_type": "code",
      "metadata": {
        "id": "7TW1VblrsG2G",
        "colab_type": "code",
        "colab": {
          "base_uri": "https://localhost:8080/",
          "height": 35
        },
        "outputId": "8f4b8c32-08b7-4b03-e71e-8140168d54c1"
      },
      "source": [
        "!ls\n"
      ],
      "execution_count": 1,
      "outputs": [
        {
          "output_type": "stream",
          "text": [
            "sample_data\n"
          ],
          "name": "stdout"
        }
      ]
    },
    {
      "cell_type": "code",
      "metadata": {
        "id": "xVcyy8CNsPWf",
        "colab_type": "code",
        "colab": {
          "base_uri": "https://localhost:8080/",
          "height": 88
        },
        "outputId": "25d11f1b-f179-4c15-f01a-78451e4a684c"
      },
      "source": [
        "!git clone https://github.com/mmphyslab-pi/hw01-python-dataio.git\n",
        "!ls\n",
        "!ls hw01-python-dataio\n",
        "!touch test.txt\n",
        "!ls"
      ],
      "execution_count": 3,
      "outputs": [
        {
          "output_type": "stream",
          "text": [
            "fatal: destination path 'hw01-python-dataio' already exists and is not an empty directory.\n",
            "hw01-python-dataio  sample_data\n",
            "code  LICENSE  README.md  requirements.txt\n",
            "hw01-python-dataio  sample_data  test.txt\n"
          ],
          "name": "stdout"
        }
      ]
    },
    {
      "cell_type": "code",
      "metadata": {
        "id": "bcJXR4D3tRzn",
        "colab_type": "code",
        "colab": {
          "base_uri": "https://localhost:8080/",
          "height": 141
        },
        "outputId": "c31b8910-05ed-48b4-90eb-ab790b4c08a3"
      },
      "source": [
        "!ls\n",
        "!cd hw01-python-dataio; git config --global user.email \"you@example.com\"; git config --global user.name \"Your Name\"\n",
        "!cd hw01-python-dataio; git add test.txt\n",
        "!cd hw01-python-dataio; git commit -a -m \"add test\"\n",
        "!cd hw01-python-dataio; git push"
      ],
      "execution_count": 7,
      "outputs": [
        {
          "output_type": "stream",
          "text": [
            "hw01-python-dataio  sample_data  test.txt\n",
            "fatal: pathspec 'test.txt' did not match any files\n",
            "On branch master\n",
            "Your branch is up to date with 'origin/master'.\n",
            "\n",
            "nothing to commit, working tree clean\n",
            "fatal: could not read Username for 'https://github.com': No such device or address\n"
          ],
          "name": "stdout"
        }
      ]
    },
    {
      "cell_type": "code",
      "metadata": {
        "id": "poGCZ0FfzLW_",
        "colab_type": "code",
        "colab": {}
      },
      "source": [
        ""
      ],
      "execution_count": 0,
      "outputs": []
    }
  ]
}